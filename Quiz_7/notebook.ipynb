{
 "cells": [
  {
   "cell_type": "code",
   "outputs": [],
   "source": [
    "import numpy as np\n",
    "from scipy import stats"
   ],
   "metadata": {
    "collapsed": false,
    "ExecuteTime": {
     "end_time": "2024-03-10T05:31:34.646979Z",
     "start_time": "2024-03-10T05:31:34.642020Z"
    }
   },
   "id": "cb8723dd7d8d00c5",
   "execution_count": 7
  },
  {
   "cell_type": "markdown",
   "source": [
    "## Q4"
   ],
   "metadata": {
    "collapsed": false
   },
   "id": "245b36a365b70067"
  },
  {
   "cell_type": "code",
   "outputs": [
    {
     "data": {
      "text/plain": "0.304808284781363"
     },
     "execution_count": 2,
     "metadata": {},
     "output_type": "execute_result"
    }
   ],
   "source": [
    "rv = stats.beta(44, 68)\n",
    "ppf = rv.ppf\n",
    "ppf(0.025)"
   ],
   "metadata": {
    "collapsed": false,
    "ExecuteTime": {
     "end_time": "2024-03-10T05:14:12.583135Z",
     "start_time": "2024-03-10T05:14:12.576086Z"
    }
   },
   "id": "1f01d078ec64f1e4",
   "execution_count": 2
  },
  {
   "cell_type": "markdown",
   "source": [
    "## Q7\n",
    "\n",
    "|                   | S1(50%) | S2(30%) | S3(20%) |\n",
    "|-------------------|--------|---------|---------|\n",
    "| P(resolved if Sk) |0.8 | 0.6 | 0.4|"
   ],
   "metadata": {
    "collapsed": false
   },
   "id": "a6d97d98eaee4883"
  },
  {
   "cell_type": "code",
   "outputs": [
    {
     "data": {
      "text/plain": "0.6600000000000001"
     },
     "execution_count": 3,
     "metadata": {},
     "output_type": "execute_result"
    }
   ],
   "source": [
    ".5 * .8 + .3 * .6 + .2 * .4"
   ],
   "metadata": {
    "collapsed": false,
    "ExecuteTime": {
     "end_time": "2024-03-10T05:22:49.319123Z",
     "start_time": "2024-03-10T05:22:49.313092Z"
    }
   },
   "id": "6cea2a979864877c",
   "execution_count": 3
  },
  {
   "cell_type": "markdown",
   "source": [
    "## Q8"
   ],
   "metadata": {
    "collapsed": false
   },
   "id": "41553e64d2a67596"
  },
  {
   "cell_type": "code",
   "outputs": [
    {
     "data": {
      "text/plain": "'0.393'"
     },
     "execution_count": 5,
     "metadata": {},
     "output_type": "execute_result"
    }
   ],
   "source": [
    "rv = stats.beta(44, 68)\n",
    "f'{rv.mean():.3f}'"
   ],
   "metadata": {
    "collapsed": false,
    "ExecuteTime": {
     "end_time": "2024-03-10T05:24:29.016942Z",
     "start_time": "2024-03-10T05:24:29.009210Z"
    }
   },
   "id": "1becaf30053451c4",
   "execution_count": 5
  },
  {
   "cell_type": "markdown",
   "source": [
    "## Q9"
   ],
   "metadata": {
    "collapsed": false
   },
   "id": "490ea357f12e812d"
  },
  {
   "cell_type": "code",
   "outputs": [
    {
     "data": {
      "text/plain": "'0.046'"
     },
     "execution_count": 6,
     "metadata": {},
     "output_type": "execute_result"
    }
   ],
   "source": [
    "rv = stats.beta(44, 68)\n",
    "f'{rv.std():.3f}'"
   ],
   "metadata": {
    "collapsed": false,
    "ExecuteTime": {
     "end_time": "2024-03-10T05:25:24.137882Z",
     "start_time": "2024-03-10T05:25:24.129848Z"
    }
   },
   "id": "a621f8de031efbf6",
   "execution_count": 6
  },
  {
   "cell_type": "markdown",
   "source": [
    "## Q11\n",
    "\n",
    "| prior ->   | S1(50%) | S2(30%) | S3(20%) |\n",
    "|------------|--------|---------|---------|\n",
    "| likelihood |0.8 | 0.6 | 0.4|\n",
    "| prior x L  | 0.4 | 0.18 | 0.08 |"
   ],
   "metadata": {
    "collapsed": false
   },
   "id": "282936163408d868"
  },
  {
   "cell_type": "code",
   "outputs": [
    {
     "data": {
      "text/plain": "array([0.60606061, 0.27272727, 0.12121212])"
     },
     "execution_count": 9,
     "metadata": {},
     "output_type": "execute_result"
    }
   ],
   "source": [
    "prior = np.array([0.5, 0.3, 0.2])\n",
    "likelihood = np.array([0.8, 0.6, 0.4])\n",
    "posterior = prior * likelihood\n",
    "posterior /= posterior.sum()\n",
    "posterior"
   ],
   "metadata": {
    "collapsed": false,
    "ExecuteTime": {
     "end_time": "2024-03-10T05:32:10.487369Z",
     "start_time": "2024-03-10T05:32:10.480471Z"
    }
   },
   "id": "d5ff00325a3170aa",
   "execution_count": 9
  }
 ],
 "metadata": {
  "kernelspec": {
   "display_name": "Python 3",
   "language": "python",
   "name": "python3"
  },
  "language_info": {
   "codemirror_mode": {
    "name": "ipython",
    "version": 2
   },
   "file_extension": ".py",
   "mimetype": "text/x-python",
   "name": "python",
   "nbconvert_exporter": "python",
   "pygments_lexer": "ipython2",
   "version": "2.7.6"
  }
 },
 "nbformat": 4,
 "nbformat_minor": 5
}
