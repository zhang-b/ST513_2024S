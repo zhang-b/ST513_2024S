{
 "cells": [
  {
   "cell_type": "code",
   "outputs": [],
   "source": [
    "import numpy as np\n",
    "from scipy import stats"
   ],
   "metadata": {
    "collapsed": false,
    "ExecuteTime": {
     "end_time": "2024-03-04T03:53:23.444011Z",
     "start_time": "2024-03-04T03:53:22.560799Z"
    }
   },
   "id": "7cc6ccc02b3399a1",
   "execution_count": 2
  },
  {
   "cell_type": "markdown",
   "source": [
    "# Attempt 1"
   ],
   "metadata": {
    "collapsed": false
   },
   "id": "7a3898328655030f"
  },
  {
   "cell_type": "markdown",
   "source": [
    "## Q4"
   ],
   "metadata": {
    "collapsed": false
   },
   "id": "b2dcaeb31a2d96ba"
  },
  {
   "cell_type": "code",
   "outputs": [
    {
     "name": "stdout",
     "output_type": "stream",
     "text": [
      "0.9759\n"
     ]
    }
   ],
   "source": [
    "n = 40.\n",
    "sum_ = 2100.\n",
    "mu = 50\n",
    "std = 8\n",
    "sigma = std / n ** 0.5\n",
    "mean = sum_ / n\n",
    "z = (mean - mu) / sigma\n",
    "cdf = stats.norm.cdf\n",
    "p = cdf(z)\n",
    "print(f'{p:.4f}')"
   ],
   "metadata": {
    "collapsed": false,
    "ExecuteTime": {
     "end_time": "2024-03-04T03:53:23.450130Z",
     "start_time": "2024-03-04T03:53:23.445052Z"
    }
   },
   "id": "3e8149fb81e99866",
   "execution_count": 3
  },
  {
   "cell_type": "markdown",
   "source": [
    "## Q5"
   ],
   "metadata": {
    "collapsed": false
   },
   "id": "bfe327aad10efbae"
  },
  {
   "cell_type": "markdown",
   "source": [
    "[TTEST PAIRED assuming normal distribution](https://documentation.sas.com/doc/en/pgmsascdc/9.4_3.4/statug/statug_ttest_examples03.htm)"
   ],
   "metadata": {
    "collapsed": false
   },
   "id": "b02ef568ab2d1831"
  },
  {
   "cell_type": "markdown",
   "source": [
    "## Q9 ???"
   ],
   "metadata": {
    "collapsed": false
   },
   "id": "9151207d10eaa051"
  },
  {
   "cell_type": "markdown",
   "source": [
    "## Q10 ???"
   ],
   "metadata": {
    "collapsed": false
   },
   "id": "a477fa742b4b5527"
  },
  {
   "cell_type": "markdown",
   "source": [
    "## Q13"
   ],
   "metadata": {
    "collapsed": false
   },
   "id": "57bb8a4af6d05e5f"
  },
  {
   "cell_type": "code",
   "outputs": [
    {
     "name": "stdout",
     "output_type": "stream",
     "text": [
      "0.9449 1.000000\n",
      "0.0551\n"
     ]
    }
   ],
   "source": [
    "n = 20.\n",
    "mu = 100.\n",
    "std = 14.\n",
    "sigma = std / n ** 0.5\n",
    "z0 = (105 - mu) / sigma\n",
    "z1 = (120 - mu) / sigma\n",
    "cdf = stats.norm.cdf\n",
    "p1 = cdf(z1)\n",
    "p0 = cdf(z0)\n",
    "print(f'{p0:.4f} {p1:4f}')\n",
    "print(f'{p1-p0:.4f}')"
   ],
   "metadata": {
    "collapsed": false,
    "ExecuteTime": {
     "end_time": "2024-03-04T03:53:23.454641Z",
     "start_time": "2024-03-04T03:53:23.450130Z"
    }
   },
   "id": "b0cc9f2dae17dc7",
   "execution_count": 4
  },
  {
   "cell_type": "markdown",
   "source": [
    "## Q20"
   ],
   "metadata": {
    "collapsed": false
   },
   "id": "68b601292ad1697f"
  },
  {
   "cell_type": "code",
   "outputs": [
    {
     "name": "stdout",
     "output_type": "stream",
     "text": [
      "0.19 0.18867924528301888\n"
     ]
    }
   ],
   "source": [
    "n = [5, 1, 3, 9, 6, 6, 5, 3, 8, 7,]\n",
    "p = 1 / np.mean(n)\n",
    "print(f'{p:.2f}', p)"
   ],
   "metadata": {
    "collapsed": false,
    "ExecuteTime": {
     "end_time": "2024-03-04T03:53:23.459101Z",
     "start_time": "2024-03-04T03:53:23.455671Z"
    }
   },
   "id": "2ae2a126730dfa74",
   "execution_count": 5
  },
  {
   "cell_type": "markdown",
   "source": [
    "## Q32"
   ],
   "metadata": {
    "collapsed": false
   },
   "id": "bd5015497c789cff"
  },
  {
   "cell_type": "code",
   "outputs": [
    {
     "data": {
      "text/plain": "-6.836388932852494"
     },
     "execution_count": 6,
     "metadata": {},
     "output_type": "execute_result"
    }
   ],
   "source": [
    "x = np.array([\n",
    "    120,128,  \n",
    "    124,131,  \n",
    "    130,131,  \n",
    "    118,127,\n",
    "    140,132,  \n",
    "    128,125,  \n",
    "    140,141,  \n",
    "    135,137,\n",
    "    126,118,  \n",
    "    130,132,  \n",
    "    126,129,  \n",
    "    127,135,\n",
    "])\n",
    "x = x.reshape([x.size//2, 2])\n",
    "dx = x[:, 0] - x[:, 1]\n",
    "mu = dx.mean()\n",
    "std = dx.std()\n",
    "sigma = std / dx.size ** 0.5\n",
    "t = stats.t(df=dx.size-1).ppf(1-(1-.99)/2)\n",
    "mu - t * sigma"
   ],
   "metadata": {
    "collapsed": false,
    "ExecuteTime": {
     "end_time": "2024-03-04T03:53:23.467882Z",
     "start_time": "2024-03-04T03:53:23.459101Z"
    }
   },
   "id": "579e25ba473ad7e1",
   "execution_count": 6
  },
  {
   "cell_type": "markdown",
   "source": [
    "## Q35"
   ],
   "metadata": {
    "collapsed": false
   },
   "id": "98913106c0a602a5"
  },
  {
   "cell_type": "code",
   "outputs": [
    {
     "name": "stdout",
     "output_type": "stream",
     "text": [
      "8.0 2.5298221281347035\n"
     ]
    },
    {
     "data": {
      "text/plain": "'0.8385'"
     },
     "execution_count": 7,
     "metadata": {},
     "output_type": "execute_result"
    }
   ],
   "source": [
    "n = 40\n",
    "p = 0.2\n",
    "binom = stats.binom(n, p)\n",
    "mu = binom.mean()\n",
    "sigma = binom.std()\n",
    "print(mu, sigma)\n",
    "y = 10.5\n",
    "z = (y - mu) / sigma\n",
    "p0 = stats.norm.cdf(z)\n",
    "p1 = stats.norm(loc=mu, scale=sigma).cdf(y)\n",
    "assert p0 == p1\n",
    "f'{p0:.4f}'"
   ],
   "metadata": {
    "collapsed": false,
    "ExecuteTime": {
     "end_time": "2024-03-04T03:53:23.474156Z",
     "start_time": "2024-03-04T03:53:23.468033Z"
    }
   },
   "id": "4c53f70587c3a3ea",
   "execution_count": 7
  }
 ],
 "metadata": {
  "kernelspec": {
   "display_name": "Python 3",
   "language": "python",
   "name": "python3"
  },
  "language_info": {
   "codemirror_mode": {
    "name": "ipython",
    "version": 2
   },
   "file_extension": ".py",
   "mimetype": "text/x-python",
   "name": "python",
   "nbconvert_exporter": "python",
   "pygments_lexer": "ipython2",
   "version": "2.7.6"
  }
 },
 "nbformat": 4,
 "nbformat_minor": 5
}
