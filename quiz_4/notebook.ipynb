{
 "cells": [
  {
   "cell_type": "code",
   "execution_count": 1,
   "id": "initial_id",
   "metadata": {
    "collapsed": true,
    "ExecuteTime": {
     "end_time": "2024-02-10T05:40:00.780008800Z",
     "start_time": "2024-02-10T05:40:00.437773200Z"
    }
   },
   "outputs": [],
   "source": [
    "from scipy import stats"
   ]
  },
  {
   "cell_type": "markdown",
   "source": [
    "# Attempt 1"
   ],
   "metadata": {
    "collapsed": false
   },
   "id": "ff10b9ee92b3c081"
  },
  {
   "cell_type": "markdown",
   "source": [
    "## Q2"
   ],
   "metadata": {
    "collapsed": false
   },
   "id": "d4f35d7c2d3b3c0a"
  },
  {
   "cell_type": "code",
   "outputs": [
    {
     "data": {
      "text/plain": "0.55"
     },
     "execution_count": 2,
     "metadata": {},
     "output_type": "execute_result"
    }
   ],
   "source": [
    "stats.rv_discrete(values=[[-1, 0, 1, 5,], [0.3, .21, .40, .09,],]).expect()"
   ],
   "metadata": {
    "collapsed": false,
    "ExecuteTime": {
     "end_time": "2024-02-10T05:40:00.786185300Z",
     "start_time": "2024-02-10T05:40:00.780008800Z"
    }
   },
   "id": "16e635f2e29d315c",
   "execution_count": 2
  },
  {
   "cell_type": "markdown",
   "source": [
    "## Q3"
   ],
   "metadata": {
    "collapsed": false
   },
   "id": "af8ab90f65d9d12"
  },
  {
   "cell_type": "code",
   "outputs": [
    {
     "data": {
      "text/plain": "0.7"
     },
     "execution_count": 3,
     "metadata": {},
     "output_type": "execute_result"
    }
   ],
   "source": [
    "stats.geom(0.7).cdf(1)"
   ],
   "metadata": {
    "collapsed": false,
    "ExecuteTime": {
     "end_time": "2024-02-10T05:40:00.791724900Z",
     "start_time": "2024-02-10T05:40:00.787270200Z"
    }
   },
   "id": "fc250d46567cd14c",
   "execution_count": 3
  },
  {
   "cell_type": "code",
   "outputs": [
    {
     "data": {
      "text/plain": "0.973"
     },
     "execution_count": 4,
     "metadata": {},
     "output_type": "execute_result"
    }
   ],
   "source": [
    "stats.geom(0.7).cdf(3)"
   ],
   "metadata": {
    "collapsed": false,
    "ExecuteTime": {
     "end_time": "2024-02-10T05:40:00.796969100Z",
     "start_time": "2024-02-10T05:40:00.791724900Z"
    }
   },
   "id": "68fd42df11d1bf82",
   "execution_count": 4
  },
  {
   "cell_type": "markdown",
   "source": [
    "## Q4"
   ],
   "metadata": {
    "collapsed": false
   },
   "id": "1cd0d2838113f91b"
  },
  {
   "cell_type": "code",
   "outputs": [
    {
     "data": {
      "text/plain": "22.00000000000001"
     },
     "execution_count": 5,
     "metadata": {},
     "output_type": "execute_result"
    }
   ],
   "source": [
    "stats.binom(40, .55).expect()"
   ],
   "metadata": {
    "collapsed": false,
    "ExecuteTime": {
     "end_time": "2024-02-10T05:40:00.802035100Z",
     "start_time": "2024-02-10T05:40:00.795967700Z"
    }
   },
   "id": "63e2341aa221416a",
   "execution_count": 5
  },
  {
   "cell_type": "markdown",
   "source": [
    "## Q6"
   ],
   "metadata": {
    "collapsed": false
   },
   "id": "6a863b7e912e6f0b"
  },
  {
   "cell_type": "code",
   "outputs": [
    {
     "data": {
      "text/plain": "0.376953125"
     },
     "execution_count": 6,
     "metadata": {},
     "output_type": "execute_result"
    }
   ],
   "source": [
    "stats.binom(10, .5).cdf(4)"
   ],
   "metadata": {
    "collapsed": false,
    "ExecuteTime": {
     "end_time": "2024-02-10T05:40:00.847496100Z",
     "start_time": "2024-02-10T05:40:00.799998900Z"
    }
   },
   "id": "fa0b41053251a71c",
   "execution_count": 6
  },
  {
   "cell_type": "markdown",
   "source": [
    "## Q8"
   ],
   "metadata": {
    "collapsed": false
   },
   "id": "e670b3314a48734a"
  },
  {
   "cell_type": "code",
   "outputs": [
    {
     "data": {
      "text/plain": "0.45999999999999996"
     },
     "execution_count": 7,
     "metadata": {},
     "output_type": "execute_result"
    }
   ],
   "source": [
    "y = stats.rv_discrete(values=[[0, 1, 2, 3, 4, 5, 6], [.22, .26, .20, .15, .12, .03, .02]])\n",
    "y.cdf(2) - y.cdf(0)"
   ],
   "metadata": {
    "collapsed": false,
    "ExecuteTime": {
     "end_time": "2024-02-10T05:40:00.848601100Z",
     "start_time": "2024-02-10T05:40:00.805885600Z"
    }
   },
   "id": "7f2e06e70acfa64d",
   "execution_count": 7
  },
  {
   "cell_type": "markdown",
   "source": [
    "## Q11"
   ],
   "metadata": {
    "collapsed": false
   },
   "id": "2391977aa3f10c05"
  },
  {
   "cell_type": "code",
   "outputs": [
    {
     "data": {
      "text/plain": "0.8381439932525145"
     },
     "execution_count": 8,
     "metadata": {},
     "output_type": "execute_result"
    }
   ],
   "source": [
    "1 - stats.binom(140, .1).cdf(10)"
   ],
   "metadata": {
    "collapsed": false,
    "ExecuteTime": {
     "end_time": "2024-02-10T05:40:00.848601100Z",
     "start_time": "2024-02-10T05:40:00.810668300Z"
    }
   },
   "id": "439dff84c46df5c2",
   "execution_count": 8
  },
  {
   "cell_type": "markdown",
   "source": [
    "## Q12"
   ],
   "metadata": {
    "collapsed": false
   },
   "id": "efd3e07e2150ea67"
  },
  {
   "cell_type": "code",
   "outputs": [
    {
     "data": {
      "text/plain": "0.8"
     },
     "execution_count": 9,
     "metadata": {},
     "output_type": "execute_result"
    }
   ],
   "source": [
    "stats.rv_discrete(values=[[0, 1.5, 2, 3,], [0.6, .2, .1, .1,],]).expect()"
   ],
   "metadata": {
    "collapsed": false,
    "ExecuteTime": {
     "end_time": "2024-02-10T05:40:00.849302400Z",
     "start_time": "2024-02-10T05:40:00.814856700Z"
    }
   },
   "id": "9730ab96f8b8ec45",
   "execution_count": 9
  },
  {
   "cell_type": "markdown",
   "source": [
    "## Q13 ???"
   ],
   "metadata": {
    "collapsed": false
   },
   "id": "685d6dd30cc76c17"
  },
  {
   "cell_type": "markdown",
   "source": [
    "## Q14"
   ],
   "metadata": {
    "collapsed": false
   },
   "id": "372968174d5256a9"
  },
  {
   "cell_type": "code",
   "outputs": [
    {
     "data": {
      "text/plain": "9.899999999999999"
     },
     "execution_count": 10,
     "metadata": {},
     "output_type": "execute_result"
    }
   ],
   "source": [
    "stats.binom(40, .55).var()"
   ],
   "metadata": {
    "collapsed": false,
    "ExecuteTime": {
     "end_time": "2024-02-10T05:40:00.849807Z",
     "start_time": "2024-02-10T05:40:00.819048500Z"
    }
   },
   "id": "61b48a8b1d9f1f69",
   "execution_count": 10
  },
  {
   "cell_type": "markdown",
   "source": [
    "## Q15"
   ],
   "metadata": {
    "collapsed": false
   },
   "id": "1b585eb77256ea4e"
  },
  {
   "cell_type": "code",
   "outputs": [
    {
     "data": {
      "text/plain": "0.8943612739897713"
     },
     "execution_count": 11,
     "metadata": {},
     "output_type": "execute_result"
    }
   ],
   "source": [
    "stats.binom(140, .1).cdf(18)"
   ],
   "metadata": {
    "collapsed": false,
    "ExecuteTime": {
     "end_time": "2024-02-10T05:40:00.849807Z",
     "start_time": "2024-02-10T05:40:00.823263300Z"
    }
   },
   "id": "42b7af38c01193ed",
   "execution_count": 11
  },
  {
   "cell_type": "markdown",
   "source": [
    "## Q16 ???"
   ],
   "metadata": {
    "collapsed": false
   },
   "id": "19e4a6052890686e"
  },
  {
   "cell_type": "markdown",
   "source": [
    "## Q17 ???"
   ],
   "metadata": {
    "collapsed": false
   },
   "id": "4c0b8127336e6ff1"
  },
  {
   "cell_type": "code",
   "outputs": [
    {
     "data": {
      "text/plain": "0.99757"
     },
     "execution_count": 12,
     "metadata": {},
     "output_type": "execute_result"
    }
   ],
   "source": [
    "stats.geom(0.7).cdf(5)"
   ],
   "metadata": {
    "collapsed": false,
    "ExecuteTime": {
     "end_time": "2024-02-10T05:40:00.850912800Z",
     "start_time": "2024-02-10T05:40:00.827366700Z"
    }
   },
   "id": "57ba40fd7cd41af3",
   "execution_count": 12
  },
  {
   "cell_type": "code",
   "outputs": [
    {
     "data": {
      "text/plain": "0.99757"
     },
     "execution_count": 13,
     "metadata": {},
     "output_type": "execute_result"
    }
   ],
   "source": [
    "1 - (1 - .7) ** 5"
   ],
   "metadata": {
    "collapsed": false,
    "ExecuteTime": {
     "end_time": "2024-02-10T05:40:00.850912800Z",
     "start_time": "2024-02-10T05:40:00.831542600Z"
    }
   },
   "id": "8cd218174b7105e0",
   "execution_count": 13
  },
  {
   "cell_type": "markdown",
   "source": [
    "## Q18"
   ],
   "metadata": {
    "collapsed": false
   },
   "id": "61f6db45e062e8a6"
  },
  {
   "cell_type": "code",
   "outputs": [
    {
     "data": {
      "text/plain": "5.0"
     },
     "execution_count": 14,
     "metadata": {},
     "output_type": "execute_result"
    }
   ],
   "source": [
    "stats.poisson(5).mean()"
   ],
   "metadata": {
    "collapsed": false,
    "ExecuteTime": {
     "end_time": "2024-02-10T05:40:00.926141200Z",
     "start_time": "2024-02-10T05:40:00.835902600Z"
    }
   },
   "id": "62007f48202811b2",
   "execution_count": 14
  },
  {
   "cell_type": "markdown",
   "source": [
    "## Q19"
   ],
   "metadata": {
    "collapsed": false
   },
   "id": "a39a3d7a125eb5b"
  },
  {
   "cell_type": "code",
   "outputs": [
    {
     "data": {
      "text/plain": "0.026999999999999996"
     },
     "execution_count": 15,
     "metadata": {},
     "output_type": "execute_result"
    }
   ],
   "source": [
    ".3 ** 3"
   ],
   "metadata": {
    "collapsed": false,
    "ExecuteTime": {
     "end_time": "2024-02-10T05:40:00.926209200Z",
     "start_time": "2024-02-10T05:40:00.840037300Z"
    }
   },
   "id": "12e9f2edb0b1b120",
   "execution_count": 15
  },
  {
   "cell_type": "code",
   "outputs": [
    {
     "data": {
      "text/plain": "0.027000000000000024"
     },
     "execution_count": 16,
     "metadata": {},
     "output_type": "execute_result"
    }
   ],
   "source": [
    "1 - stats.geom(.7).cdf(3)"
   ],
   "metadata": {
    "collapsed": false,
    "ExecuteTime": {
     "end_time": "2024-02-10T05:40:00.927276600Z",
     "start_time": "2024-02-10T05:40:00.843283600Z"
    }
   },
   "id": "f888e84c2d465bcf",
   "execution_count": 16
  },
  {
   "cell_type": "markdown",
   "source": [
    "## Q20"
   ],
   "metadata": {
    "collapsed": false
   },
   "id": "3e95bb9a0dfb2511"
  },
  {
   "cell_type": "code",
   "outputs": [
    {
     "data": {
      "text/plain": "0.45381376778669125"
     },
     "execution_count": 17,
     "metadata": {},
     "output_type": "execute_result"
    }
   ],
   "source": [
    "y = stats.poisson(24)\n",
    "y.cdf(27) - y.cdf(21)"
   ],
   "metadata": {
    "collapsed": false,
    "ExecuteTime": {
     "end_time": "2024-02-10T05:40:00.930428Z",
     "start_time": "2024-02-10T05:40:00.847496100Z"
    }
   },
   "id": "a14c2a8b76d4268b",
   "execution_count": 17
  },
  {
   "cell_type": "markdown",
   "source": [
    "## Q21"
   ],
   "metadata": {
    "collapsed": false
   },
   "id": "eae2feffc35d8f02"
  },
  {
   "cell_type": "code",
   "outputs": [
    {
     "data": {
      "text/plain": "3.5"
     },
     "execution_count": 18,
     "metadata": {},
     "output_type": "execute_result"
    }
   ],
   "source": [
    "stats.poisson(3.5).var()"
   ],
   "metadata": {
    "collapsed": false,
    "ExecuteTime": {
     "end_time": "2024-02-10T05:40:00.930428Z",
     "start_time": "2024-02-10T05:40:00.851923800Z"
    }
   },
   "id": "c315be3db6068972",
   "execution_count": 18
  }
 ],
 "metadata": {
  "kernelspec": {
   "display_name": "Python 3",
   "language": "python",
   "name": "python3"
  },
  "language_info": {
   "codemirror_mode": {
    "name": "ipython",
    "version": 2
   },
   "file_extension": ".py",
   "mimetype": "text/x-python",
   "name": "python",
   "nbconvert_exporter": "python",
   "pygments_lexer": "ipython2",
   "version": "2.7.6"
  }
 },
 "nbformat": 4,
 "nbformat_minor": 5
}
